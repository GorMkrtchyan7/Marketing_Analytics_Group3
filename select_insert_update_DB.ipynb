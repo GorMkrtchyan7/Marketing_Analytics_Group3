{
 "cells": [
  {
   "cell_type": "markdown",
   "metadata": {},
   "source": [
    "# Selecting"
   ]
  },
  {
   "cell_type": "code",
   "execution_count": 1,
   "metadata": {},
   "outputs": [
    {
     "name": "stdout",
     "output_type": "stream",
     "text": [
      "Customers from Alabama:\n",
      "(24, 'Brooke', 'Bowen', '215 Amy Dale', 'Alabama', 'Port Jeffrey', '51425')\n",
      "(51, 'Henry', 'Castillo', '72099 Dean Gateway', 'Alabama', 'Gonzalezbury', '15512')\n",
      "(92, 'Crystal', 'Carpenter', '025 Green Square', 'Alabama', 'South Joannaville', '86737')\n",
      "(111, 'Misty', 'Hernandez', '523 Melissa Crossing', 'Alabama', 'New Jack', '69379')\n",
      "(132, 'Kellie', 'Ryan', '92525 Wendy Locks Suite 807', 'Alabama', 'New Teresastad', '49083')\n",
      "(135, 'Sarah', 'Perez', '904 Tonya Port', 'Alabama', 'Rodriguezmouth', '34890')\n",
      "(266, 'Amanda', 'Williams', '8561 Harrison Walks Suite 503', 'Alabama', 'West William', '62294')\n",
      "(302, 'Rachel', 'Duncan', '498 Walker Estate Apt. 221', 'Alabama', 'Lake Kevin', '37746')\n",
      "(346, 'Madeline', 'Robinson', '155 Kirby Heights', 'Alabama', 'Alexandraburgh', '84210')\n",
      "(401, 'Ian', 'Johnson', '73132 Rivas Tunnel', 'Alabama', 'South Roberto', '82207')\n",
      "(455, 'Jennifer', 'Camacho', '2738 Scott Lakes Suite 886', 'Alabama', 'North Roberttown', '35403')\n",
      "(462, 'Phillip', 'Bradford', '43197 Meyer Gateway', 'Alabama', 'Jimenezport', '73739')\n",
      "(496, 'Danielle', 'Brooks', '75628 Rowland Key Suite 438', 'Alabama', 'Bryanton', '40635')\n",
      "(516, 'Jessica', 'Smith', '120 Brown Shore Apt. 053', 'Alabama', 'Claytonstad', '44386')\n",
      "(573, 'Kevin', 'Duncan', '7345 John Port', 'Alabama', 'North Michellehaven', '4520')\n",
      "(632, 'Barbara', 'Wilson', '546 Marshall Lodge', 'Alabama', 'Gailburgh', '33257')\n",
      "(643, 'Joseph', 'Smith', '614 Garcia Roads', 'Alabama', 'Wilcoxport', '31873')\n",
      "(713, 'Sarah', 'White', '1313 Williams Corner Suite 293', 'Alabama', 'West Biancaberg', '6703')\n",
      "(765, 'Jason', 'Moore', '0908 Tammy Mall Apt. 944', 'Alabama', 'Lawrenceton', '736')\n",
      "(777, 'Sylvia', 'Davis', '512 Combs Flat Apt. 795', 'Alabama', 'South Jessica', '15343')\n",
      "(781, 'Jeremy', 'Miller', '1741 Crystal Forge Suite 725', 'Alabama', 'South Brandyfurt', '64416')\n",
      "(804, 'Seth', 'Johnson', '5064 Garrett Fields', 'Alabama', 'Morenochester', '56902')\n",
      "(865, 'Christopher', 'Moss', '8778 Tracy Park', 'Alabama', 'Graveston', '18398')\n",
      "(893, 'Margaret', 'Smith', '1134 Hill Bridge', 'Alabama', 'Lindsaymouth', '60794')\n",
      "(961, 'James', 'Calhoun', '03466 Hall Brook', 'Alabama', 'Garciamouth', '4100')\n",
      "(1028, 'Ryan', 'Allen', '6871 Flores Squares', 'Alabama', 'Carsonfort', '74835')\n",
      "(1053, 'Mary', 'Zimmerman', '6171 Schultz Lake', 'Alabama', 'South Robinbury', '51168')\n",
      "(1064, 'Jonathan', 'Gibbs', '7738 Tara Hills Suite 043', 'Alabama', 'New Kyleside', '26870')\n",
      "(1084, 'Carl', 'Martin', '01458 Henderson Dam Suite 194', 'Alabama', 'Rothbury', '55200')\n",
      "(1181, 'Omar', 'Johnson', '1471 Martin Lights', 'Alabama', 'East Sarah', '19125')\n",
      "(1191, 'Jennifer', 'Lopez', '7646 Stephens Key', 'Alabama', 'Lake Tiffany', '74508')\n",
      "(1294, 'Thomas', 'Roberts', '517 Mccarty Meadows Apt. 449', 'Alabama', 'Lake Heathershire', '83263')\n",
      "(1399, 'Larry', 'Curtis', '541 Sara Extension Suite 140', 'Alabama', 'Wesleyville', '13865')\n",
      "(1432, 'Andrew', 'Johnson', '4394 Harvey Centers', 'Alabama', 'Camerontown', '55778')\n",
      "(1480, 'Samuel', 'Palmer', '1051 Smith Stravenue', 'Alabama', 'West Samuelmouth', '76353')\n",
      "(1514, 'Dylan', 'Roberts', '87416 Matthew Shores', 'Alabama', 'Michaelbury', '73131')\n",
      "(1519, 'Joshua', 'Alexander', '968 Peterson Lodge', 'Alabama', 'Crawfordmouth', '13586')\n",
      "(1536, 'Michael', 'Allison', '536 Lori Springs', 'Alabama', 'Port Michelle', '78882')\n",
      "(1595, 'Eddie', 'Williams', '487 Craig Loaf Suite 457', 'Alabama', 'West Markfurt', '34426')\n",
      "(1681, 'Jennifer', 'Morales', '352 Hayden Wells', 'Alabama', 'Walkerland', '49014')\n",
      "(1854, 'Robert', 'Blackwell', '534 Garcia Cliff', 'Alabama', 'Jacksonland', '44570')\n",
      "(1895, 'Cory', 'Wilson', '9296 Jeremiah Spring Apt. 381', 'Alabama', 'East Theodoreborough', '66822')\n",
      "(1931, 'Michael', 'Schneider', '8658 Jennifer Mews Suite 604', 'Alabama', 'Barnettview', '95158')\n",
      "(2092, 'Shannon', 'Lin', '57187 Cain Center', 'Alabama', 'Josephside', '73987')\n",
      "(2112, 'Jacqueline', 'Cortez', '530 Keith Mountains', 'Alabama', 'Lake Leroy', '25589')\n",
      "(2258, 'Angela', 'Molina', '0203 Clements Points Apt. 920', 'Alabama', 'East Shawnmouth', '28509')\n",
      "(2264, 'Raymond', 'May', '2109 Butler Route', 'Alabama', 'West Richard', '66326')\n",
      "(2381, 'Brandy', 'Diaz', '98006 Kelly Street Apt. 212', 'Alabama', 'South Timothy', '88733')\n",
      "(2392, 'John', 'Johnson', '24729 Carlos Divide Suite 758', 'Alabama', 'East Michael', '54911')\n"
     ]
    }
   ],
   "source": [
    "from DB_Folder.etl.data_preperation.sql_interactions import SqlHandler\n",
    "from sqlalchemy import create_engine, text\n",
    "import pandas as pd\n",
    "\n",
    "# Create a SQLAlchemy engine for your SQLite database\n",
    "engine = create_engine('sqlite:///DB_Folder/etl/data_preperation/BookStore.db')\n",
    "\n",
    "# Select customers from Alabama\n",
    "sql_query = text(\"\"\"\n",
    "    SELECT * FROM customers\n",
    "    WHERE state = 'Alabama';\n",
    "\"\"\")\n",
    "\n",
    "with engine.connect() as connection:\n",
    "    result = connection.execute(sql_query)\n",
    "    rows = result.fetchall()\n",
    "\n",
    "if rows:\n",
    "    print(\"Customers from Alabama:\")\n",
    "    for row in rows:\n",
    "        print(row)\n",
    "else:\n",
    "    print(\"No customers from Alabama found in the database.\")\n"
   ]
  },
  {
   "cell_type": "markdown",
   "metadata": {},
   "source": [
    "# Inserting"
   ]
  },
  {
   "cell_type": "markdown",
   "metadata": {},
   "source": [
    "## Inserting random person's data to customers table"
   ]
  },
  {
   "cell_type": "code",
   "execution_count": 2,
   "metadata": {},
   "outputs": [
    {
     "name": "stderr",
     "output_type": "stream",
     "text": [
      "\u001b[38;5;183m2023-11-03 22:52:34,136 - sql_interactions.py - get_table_columns - INFO - (the list of columns: []) - line: 62\u001b[0m\n",
      "\u001b[31;20m2023-11-03 22:52:34,137 - sql_interactions.py - insert_one - ERROR - (Data contains columns not present in the database table.) - line: 39\u001b[0m\n",
      "\u001b[38;5;183m2023-11-03 22:52:34,139 - sql_interactions.py - get_table_columns - INFO - (the list of columns: []) - line: 62\u001b[0m\n",
      "\u001b[31;20m2023-11-03 22:52:34,139 - sql_interactions.py - update_table - ERROR - (Data contains columns not present in the database table.) - line: 170\u001b[0m\n"
     ]
    },
    {
     "name": "stdout",
     "output_type": "stream",
     "text": [
      "New customer has been inserted.\n",
      "Customer's information has been updated.\n"
     ]
    }
   ],
   "source": [
    "# Insert a new customer\n",
    "new_data = pd.Series({'customer_id': 83428, 'first_name': \"Emily\", \"last_name\": \"Clarkson\", \"street_address\": \"9022 Street\", \"state\": \"California\", \"city\": \"Los Angeles\", \"zip_code\": \"29980\"})\n",
    "\n",
    "# Use the SqlHandler class to insert the new customer (as shown in your previous code)\n",
    "sql_handler = SqlHandler(\"BookStore\", \"customers\")\n",
    "sql_handler.insert_one(new_data)\n",
    "print(\"New customer has been inserted.\")\n"
   ]
  },
  {
   "cell_type": "markdown",
   "metadata": {},
   "source": [
    "# Updating"
   ]
  },
  {
   "cell_type": "markdown",
   "metadata": {},
   "source": [
    "## Updating one of the customer's data. "
   ]
  },
  {
   "cell_type": "code",
   "execution_count": null,
   "metadata": {},
   "outputs": [],
   "source": [
    "# Update a customer's information where first_name = 'John'\n",
    "update_data = pd.Series({'customer_id': 828828, 'first_name': \"Bradley\", \"last_name\": \"Peterson\", \"street_address\": \"5014 Street\", \"state\": \"New York\", \"city\": \"New Jersey\", \"zip_code\": \"17820\"})\n",
    "\n",
    "# Use the SqlHandler class to update the customer (as shown in your previous code)\n",
    "condition = \"first_name = 'John'\"\n",
    "sql_handler.update_table(condition, update_data)\n",
    "print(\"Customer's information has been updated.\")\n",
    "\n",
    "# Dispose of the SQLAlchemy engine\n",
    "engine.dispose()"
   ]
  }
 ],
 "metadata": {
  "kernelspec": {
   "display_name": "Python 3",
   "language": "python",
   "name": "python3"
  },
  "language_info": {
   "codemirror_mode": {
    "name": "ipython",
    "version": 3
   },
   "file_extension": ".py",
   "mimetype": "text/x-python",
   "name": "python",
   "nbconvert_exporter": "python",
   "pygments_lexer": "ipython3",
   "version": "3.9.7"
  }
 },
 "nbformat": 4,
 "nbformat_minor": 2
}
