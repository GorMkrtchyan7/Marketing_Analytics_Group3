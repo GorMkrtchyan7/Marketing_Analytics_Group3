{
 "cells": [
  {
   "cell_type": "markdown",
   "metadata": {},
   "source": [
    "### We want to know which customers are the ones who spend the most money in our store"
   ]
  },
  {
   "cell_type": "code",
   "execution_count": 43,
   "metadata": {},
   "outputs": [],
   "source": [
    "from DB_Folder.etl.data_preperation.sql_interactions import SqlHandler\n",
    "import Data_Folder\n",
    "import pandas as pd\n",
    "import numpy as np"
   ]
  },
  {
   "cell_type": "code",
   "execution_count": 50,
   "metadata": {},
   "outputs": [
    {
     "name": "stderr",
     "output_type": "stream",
     "text": [
      "\u001b[38;5;183m2023-11-03 16:37:10,635 - sql_interactions.py - get_table_columns - INFO - (the list of columns: []) - line: 62\u001b[0m\n"
     ]
    }
   ],
   "source": [
    "# Create an instance of SqlHandler\n",
    "db_handler = SqlHandler(dbname=\"BookStore\", table_name=\"customers_data\")\n",
    "\n",
    "customer_data = 'Data_Folder/customers.csv'\n",
    "customer_data = pd.read_csv(customer_data)\n",
    "\n",
    "# Retrieve the list of column names from the database (CSV file)\n",
    "column_names = db_handler.get_table_columns()\n"
   ]
  },
  {
   "cell_type": "code",
   "execution_count": null,
   "metadata": {},
   "outputs": [],
   "source": []
  },
  {
   "cell_type": "code",
   "execution_count": null,
   "metadata": {},
   "outputs": [],
   "source": []
  },
  {
   "cell_type": "code",
   "execution_count": null,
   "metadata": {},
   "outputs": [],
   "source": []
  }
 ],
 "metadata": {
  "kernelspec": {
   "display_name": "base",
   "language": "python",
   "name": "python3"
  },
  "language_info": {
   "codemirror_mode": {
    "name": "ipython",
    "version": 3
   },
   "file_extension": ".py",
   "mimetype": "text/x-python",
   "name": "python",
   "nbconvert_exporter": "python",
   "pygments_lexer": "ipython3",
   "version": "3.9.7"
  }
 },
 "nbformat": 4,
 "nbformat_minor": 2
}
