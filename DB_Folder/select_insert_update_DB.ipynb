{
 "cells": [
  {
   "cell_type": "markdown",
   "metadata": {},
   "source": [
    "# Selecting"
   ]
  },
  {
   "cell_type": "markdown",
   "metadata": {},
   "source": [
    "## Selecting the longest books, refering to the page number"
   ]
  },
  {
   "cell_type": "code",
   "execution_count": 1,
   "metadata": {},
   "outputs": [],
   "source": [
    "import pandas as pd\n",
    "books = pd.read_csv(\"Books.csv\")"
   ]
  },
  {
   "cell_type": "code",
   "execution_count": 2,
   "metadata": {},
   "outputs": [
    {
     "data": {
      "text/html": [
       "<div>\n",
       "<style scoped>\n",
       "    .dataframe tbody tr th:only-of-type {\n",
       "        vertical-align: middle;\n",
       "    }\n",
       "\n",
       "    .dataframe tbody tr th {\n",
       "        vertical-align: top;\n",
       "    }\n",
       "\n",
       "    .dataframe thead th {\n",
       "        text-align: right;\n",
       "    }\n",
       "</style>\n",
       "<table border=\"1\" class=\"dataframe\">\n",
       "  <thead>\n",
       "    <tr style=\"text-align: right;\">\n",
       "      <th></th>\n",
       "      <th>title</th>\n",
       "      <th>price</th>\n",
       "      <th>isbn</th>\n",
       "      <th>publication_year</th>\n",
       "      <th>language</th>\n",
       "      <th>cover_type</th>\n",
       "      <th>pages_number</th>\n",
       "      <th>book_id</th>\n",
       "      <th>author_id</th>\n",
       "      <th>publisher_id</th>\n",
       "    </tr>\n",
       "  </thead>\n",
       "  <tbody>\n",
       "    <tr>\n",
       "      <th>0</th>\n",
       "      <td>Դառը ծովը</td>\n",
       "      <td>5800.0</td>\n",
       "      <td>9789939884943</td>\n",
       "      <td>2023.0</td>\n",
       "      <td>Armenian</td>\n",
       "      <td>Hard</td>\n",
       "      <td>336.0</td>\n",
       "      <td>1</td>\n",
       "      <td>1</td>\n",
       "      <td>1</td>\n",
       "    </tr>\n",
       "    <tr>\n",
       "      <th>1</th>\n",
       "      <td>Աշխարհի պատմությունը 10½ գլուխներով</td>\n",
       "      <td>5990.0</td>\n",
       "      <td>9789939980256</td>\n",
       "      <td>2023.0</td>\n",
       "      <td>Armenian</td>\n",
       "      <td>Hard</td>\n",
       "      <td>480.0</td>\n",
       "      <td>2</td>\n",
       "      <td>2</td>\n",
       "      <td>2</td>\n",
       "    </tr>\n",
       "    <tr>\n",
       "      <th>2</th>\n",
       "      <td>Ալ տառը</td>\n",
       "      <td>4990.0</td>\n",
       "      <td>9789939980140</td>\n",
       "      <td>2023.0</td>\n",
       "      <td>Armenian</td>\n",
       "      <td>Ultrathin</td>\n",
       "      <td>280.0</td>\n",
       "      <td>3</td>\n",
       "      <td>3</td>\n",
       "      <td>2</td>\n",
       "    </tr>\n",
       "    <tr>\n",
       "      <th>3</th>\n",
       "      <td>Լուսնաքարը</td>\n",
       "      <td>5990.0</td>\n",
       "      <td>9789939980089</td>\n",
       "      <td>2023.0</td>\n",
       "      <td>Armenian</td>\n",
       "      <td>Hard</td>\n",
       "      <td>656.0</td>\n",
       "      <td>4</td>\n",
       "      <td>4</td>\n",
       "      <td>2</td>\n",
       "    </tr>\n",
       "    <tr>\n",
       "      <th>4</th>\n",
       "      <td>«Ծիածանը» և ․․․</td>\n",
       "      <td>8400.0</td>\n",
       "      <td>9789939113852</td>\n",
       "      <td>2023.0</td>\n",
       "      <td>Armenian</td>\n",
       "      <td>Hard</td>\n",
       "      <td>168.0</td>\n",
       "      <td>5</td>\n",
       "      <td>5</td>\n",
       "      <td>3</td>\n",
       "    </tr>\n",
       "    <tr>\n",
       "      <th>...</th>\n",
       "      <td>...</td>\n",
       "      <td>...</td>\n",
       "      <td>...</td>\n",
       "      <td>...</td>\n",
       "      <td>...</td>\n",
       "      <td>...</td>\n",
       "      <td>...</td>\n",
       "      <td>...</td>\n",
       "      <td>...</td>\n",
       "      <td>...</td>\n",
       "    </tr>\n",
       "    <tr>\n",
       "      <th>22792</th>\n",
       "      <td>Կանաչ ու սև․ 2020 թվականի հայկական աղետը</td>\n",
       "      <td>6000.0</td>\n",
       "      <td>9789939882925</td>\n",
       "      <td>2021.0</td>\n",
       "      <td>Armenian</td>\n",
       "      <td>Soft</td>\n",
       "      <td>516.0</td>\n",
       "      <td>22793</td>\n",
       "      <td>1490</td>\n",
       "      <td>142</td>\n",
       "    </tr>\n",
       "    <tr>\n",
       "      <th>22793</th>\n",
       "      <td>Մահվան հովիտ</td>\n",
       "      <td>4000.0</td>\n",
       "      <td>9789939882963</td>\n",
       "      <td>2021.0</td>\n",
       "      <td>Armenian</td>\n",
       "      <td>Soft</td>\n",
       "      <td>360.0</td>\n",
       "      <td>22794</td>\n",
       "      <td>1490</td>\n",
       "      <td>142</td>\n",
       "    </tr>\n",
       "    <tr>\n",
       "      <th>22794</th>\n",
       "      <td>Իբր պոեզիա</td>\n",
       "      <td>3800.0</td>\n",
       "      <td>9789939877747</td>\n",
       "      <td>2021.0</td>\n",
       "      <td>Armenian</td>\n",
       "      <td>Soft</td>\n",
       "      <td>80.0</td>\n",
       "      <td>22795</td>\n",
       "      <td>1988</td>\n",
       "      <td>9</td>\n",
       "    </tr>\n",
       "    <tr>\n",
       "      <th>22795</th>\n",
       "      <td>Ռազմարվեստ․ Ցամաքային ճեղքում․ Հատոր 2</td>\n",
       "      <td>25000.0</td>\n",
       "      <td>9789939034911</td>\n",
       "      <td>2020.0</td>\n",
       "      <td>Armenian</td>\n",
       "      <td>Hard</td>\n",
       "      <td>1333.0</td>\n",
       "      <td>22796</td>\n",
       "      <td>1734</td>\n",
       "      <td>160</td>\n",
       "    </tr>\n",
       "    <tr>\n",
       "      <th>22796</th>\n",
       "      <td>Тигран Великий: меж двух огней</td>\n",
       "      <td>3400.0</td>\n",
       "      <td>9785604292242</td>\n",
       "      <td>2019.0</td>\n",
       "      <td>Russian</td>\n",
       "      <td>Soft</td>\n",
       "      <td>292.0</td>\n",
       "      <td>22797</td>\n",
       "      <td>1989</td>\n",
       "      <td>4</td>\n",
       "    </tr>\n",
       "  </tbody>\n",
       "</table>\n",
       "<p>22797 rows × 10 columns</p>\n",
       "</div>"
      ],
      "text/plain": [
       "                                          title    price           isbn  \\\n",
       "0                                     Դառը ծովը   5800.0  9789939884943   \n",
       "1           Աշխարհի պատմությունը 10½ գլուխներով   5990.0  9789939980256   \n",
       "2                                       Ալ տառը   4990.0  9789939980140   \n",
       "3                                    Լուսնաքարը   5990.0  9789939980089   \n",
       "4                               «Ծիածանը» և ․․․   8400.0  9789939113852   \n",
       "...                                         ...      ...            ...   \n",
       "22792  Կանաչ ու սև․ 2020 թվականի հայկական աղետը   6000.0  9789939882925   \n",
       "22793                              Մահվան հովիտ   4000.0  9789939882963   \n",
       "22794                                Իբր պոեզիա   3800.0  9789939877747   \n",
       "22795    Ռազմարվեստ․ Ցամաքային ճեղքում․ Հատոր 2  25000.0  9789939034911   \n",
       "22796            Тигран Великий: меж двух огней   3400.0  9785604292242   \n",
       "\n",
       "       publication_year  language cover_type  pages_number  book_id  \\\n",
       "0                2023.0  Armenian       Hard         336.0        1   \n",
       "1                2023.0  Armenian       Hard         480.0        2   \n",
       "2                2023.0  Armenian  Ultrathin         280.0        3   \n",
       "3                2023.0  Armenian       Hard         656.0        4   \n",
       "4                2023.0  Armenian       Hard         168.0        5   \n",
       "...                 ...       ...        ...           ...      ...   \n",
       "22792            2021.0  Armenian       Soft         516.0    22793   \n",
       "22793            2021.0  Armenian       Soft         360.0    22794   \n",
       "22794            2021.0  Armenian       Soft          80.0    22795   \n",
       "22795            2020.0  Armenian       Hard        1333.0    22796   \n",
       "22796            2019.0   Russian       Soft         292.0    22797   \n",
       "\n",
       "       author_id  publisher_id  \n",
       "0              1             1  \n",
       "1              2             2  \n",
       "2              3             2  \n",
       "3              4             2  \n",
       "4              5             3  \n",
       "...          ...           ...  \n",
       "22792       1490           142  \n",
       "22793       1490           142  \n",
       "22794       1988             9  \n",
       "22795       1734           160  \n",
       "22796       1989             4  \n",
       "\n",
       "[22797 rows x 10 columns]"
      ]
     },
     "execution_count": 2,
     "metadata": {},
     "output_type": "execute_result"
    }
   ],
   "source": [
    "books"
   ]
  },
  {
   "cell_type": "code",
   "execution_count": 7,
   "metadata": {},
   "outputs": [],
   "source": [
    "# Filter books with 600+ pages\n",
    "books_600plus = books[books['pages_number'] > 600]"
   ]
  },
  {
   "cell_type": "code",
   "execution_count": 8,
   "metadata": {},
   "outputs": [],
   "source": [
    "# Select the \"book_title\" and \"author\" columns\n",
    "selected_books = books_600plus[['title']]\n"
   ]
  },
  {
   "cell_type": "code",
   "execution_count": 10,
   "metadata": {},
   "outputs": [
    {
     "name": "stdout",
     "output_type": "stream",
     "text": [
      "3                                             Լուսնաքարը\n",
      "11                         Stalin. Passage to revolution\n",
      "16       Անտիպ գործեր, նամականիներ, նյութեր և փաստաթղթեր\n",
      "58                                                 Чужак\n",
      "61                                                Сталин\n",
      "                              ...                       \n",
      "22720                                 The Complete Works\n",
      "22736                   Вторая мировая война. В 3 книгах\n",
      "22738             Стартап: Настольная книга основателя /\n",
      "22740                                        Будденброки\n",
      "22795             Ռազմարվեստ․ Ցամաքային ճեղքում․ Հատոր 2\n",
      "Name: title, Length: 2302, dtype: object\n"
     ]
    }
   ],
   "source": [
    "print(selected_books.title)"
   ]
  },
  {
   "cell_type": "markdown",
   "metadata": {},
   "source": [
    "# Inserting"
   ]
  },
  {
   "cell_type": "markdown",
   "metadata": {},
   "source": [
    "## Inserting random person's data to customers table"
   ]
  },
  {
   "cell_type": "code",
   "execution_count": 12,
   "metadata": {},
   "outputs": [],
   "source": [
    "# Define the data for the new row as a dictionary\n",
    "new_customer_data = {\n",
    "    'customer_id': 3678,\n",
    "    'first_name': 'Henry',\n",
    "    'last_name': 'Sargsyan',\n",
    "    'street_address': 'Abovyan 22',\n",
    "    'state': 'Kentron',\n",
    "    'city': 'Yerevan',\n",
    "    'zip_code': '0002'\n",
    "}\n",
    "\n",
    "# Load the existing \"customers.csv\" file into a Pandas DataFrame\n",
    "customers_df = pd.read_csv(\"customers.csv\")\n",
    "new_customer_df = pd.DataFrame([new_customer_data])\n",
    "customers_df = pd.concat([customers_df, new_customer_df], ignore_index=True)\n",
    "\n",
    "# Save the updated DataFrame back to the CSV file\n",
    "customers_df.to_csv(\"customers.csv\", index=False)"
   ]
  },
  {
   "cell_type": "markdown",
   "metadata": {},
   "source": [
    "# Updating"
   ]
  },
  {
   "cell_type": "markdown",
   "metadata": {},
   "source": [
    "## Updating one of the customer's data. "
   ]
  },
  {
   "cell_type": "code",
   "execution_count": 18,
   "metadata": {},
   "outputs": [],
   "source": [
    "import random"
   ]
  },
  {
   "cell_type": "code",
   "execution_count": 19,
   "metadata": {},
   "outputs": [],
   "source": [
    "num_rows = len(customers_df)\n",
    "\n",
    "# Generate a random index to select a row\n",
    "random_index = random.randint(0, num_rows - 1)"
   ]
  },
  {
   "cell_type": "code",
   "execution_count": 21,
   "metadata": {},
   "outputs": [
    {
     "data": {
      "text/plain": [
       "customer_id                               2071\n",
       "first_name                              Angela\n",
       "last_name                               Parker\n",
       "street_address    312 Williams Knolls Apt. 589\n",
       "state                             South Dakota\n",
       "city                                Parkerfort\n",
       "zip_code                                 80615\n",
       "Name: 2071, dtype: object"
      ]
     },
     "execution_count": 21,
     "metadata": {},
     "output_type": "execute_result"
    }
   ],
   "source": [
    "random_customer = customers_df.iloc[random_index]\n",
    "random_customer"
   ]
  },
  {
   "cell_type": "code",
   "execution_count": 22,
   "metadata": {},
   "outputs": [],
   "source": [
    "new_data = {\n",
    "    'customer_id': random_customer['customer_id'],\n",
    "    'first_name': 'Angelina',\n",
    "    'last_name': 'Jolie',\n",
    "    'street_address': 'Burbank 0053',\n",
    "    'state': 'California',\n",
    "    'city': 'Los Angeles',\n",
    "    'zip_code': '43560'\n",
    "}"
   ]
  },
  {
   "cell_type": "code",
   "execution_count": 23,
   "metadata": {},
   "outputs": [],
   "source": [
    "customers_df.loc[random_index] = new_data"
   ]
  },
  {
   "cell_type": "code",
   "execution_count": 24,
   "metadata": {},
   "outputs": [
    {
     "name": "stdout",
     "output_type": "stream",
     "text": [
      "customer_id               2071\n",
      "first_name            Angelina\n",
      "last_name                Jolie\n",
      "street_address    Burbank 0053\n",
      "state               California\n",
      "city               Los Angeles\n",
      "zip_code                 43560\n",
      "Name: 2071, dtype: object\n"
     ]
    }
   ],
   "source": [
    "# Print the updated row\n",
    "print(customers_df.iloc[random_index])"
   ]
  }
 ],
 "metadata": {
  "kernelspec": {
   "display_name": "Python 3",
   "language": "python",
   "name": "python3"
  },
  "language_info": {
   "codemirror_mode": {
    "name": "ipython",
    "version": 3
   },
   "file_extension": ".py",
   "mimetype": "text/x-python",
   "name": "python",
   "nbconvert_exporter": "python",
   "pygments_lexer": "ipython3",
   "version": "3.8.8"
  }
 },
 "nbformat": 4,
 "nbformat_minor": 2
}
