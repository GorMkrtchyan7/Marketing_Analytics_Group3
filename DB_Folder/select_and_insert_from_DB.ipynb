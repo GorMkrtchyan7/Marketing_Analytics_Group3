{
 "cells": [
  {
   "cell_type": "code",
   "execution_count": 1,
   "metadata": {},
   "outputs": [
    {
     "name": "stdout",
     "output_type": "stream",
     "text": [
      "     first_name  last_name    order_price\n",
      "3410     Alyssa     Walker  214218.000000\n",
      "617        John      Bryan  209355.000000\n",
      "1595     Collin      Boyer  202718.333333\n",
      "107      Manuel  Mcfarland  160137.000000\n",
      "526    Veronica     Flores  150931.000000\n",
      "...         ...        ...            ...\n",
      "3921      Brian      Green   30080.000000\n",
      "603    Jennifer   Cantrell   30072.000000\n",
      "1179   Clifford     Atkins   30045.000000\n",
      "832       James     Nelson   30036.000000\n",
      "1677   Kristina     Palmer   30014.000000\n",
      "\n",
      "[635 rows x 3 columns]\n"
     ]
    }
   ],
   "source": [
    "import pandas as pd\n",
    "\n",
    "# Load the \"Orders.csv\" and \"customers.csv\" files into Pandas DataFrames\n",
    "orders_df = pd.read_csv(\"Orders.csv\")\n",
    "customers_df = pd.read_csv(\"customers.csv\")\n",
    "\n",
    "# Merge the \"Orders\" and \"Customers\" DataFrames on the 'customer_id' column\n",
    "merged_df = orders_df.merge(customers_df, on='customer_id', how='left')\n",
    "\n",
    "# Calculate the order price by adding the 'subtotal' and 'shipping' columns\n",
    "merged_df['order_price'] = merged_df['subtotal'] + merged_df['shipping']\n",
    "\n",
    "# Select orders with a price larger than 30000\n",
    "selected_orders = merged_df[merged_df['order_price'] > 30000]\n",
    "\n",
    "# Select the \"first_name,\" \"last_name,\" and \"order_price\" columns\n",
    "result_df = selected_orders[['first_name', 'last_name', 'order_price']]\n",
    "\n",
    "# Sort the result by \"order_price\" from most to least\n",
    "sorted_result = result_df.sort_values(by='order_price', ascending=False)\n",
    "\n",
    "# Print the sorted result\n",
    "print(sorted_result)"
   ]
  },
  {
   "cell_type": "code",
   "execution_count": 12,
   "metadata": {},
   "outputs": [],
   "source": [
    "# Define the data for the new row as a dictionary\n",
    "new_customer_data = {\n",
    "    'customer_id': 2500,\n",
    "    'first_name': 'Armenuhi',\n",
    "    'last_name': 'Vardanesyan',\n",
    "    'street_address': 'Bagramyan 40',\n",
    "    'state': 'Arabkir',\n",
    "    'city': 'Yerevan',\n",
    "    'zip_code': '329'\n",
    "}\n",
    "\n",
    "# Load the existing \"customers.csv\" file into a Pandas DataFrame\n",
    "customers_df = pd.read_csv(\"customers.csv\")\n",
    "\n",
    "# Create a new DataFrame with the new customer data\n",
    "new_customer_df = pd.DataFrame([new_customer_data])\n",
    "\n",
    "# Concatenate the existing DataFrame with the new customer DataFrame\n",
    "customers_df = pd.concat([customers_df, new_customer_df], ignore_index=True)\n",
    "\n",
    "# Save the updated DataFrame back to the CSV file\n",
    "customers_df.to_csv(\"customers.csv\", index=False)"
   ]
  },
  {
   "cell_type": "code",
   "execution_count": 13,
   "metadata": {},
   "outputs": [
    {
     "name": "stdout",
     "output_type": "stream",
     "text": [
      "      customer_id first_name    last_name street_address    state     city  \\\n",
      "2500         2500   Armenuhi  Vardanesyan   Bagramyan 40  Arabkir  Yerevan   \n",
      "\n",
      "     zip_code  \n",
      "2500      329  \n"
     ]
    }
   ],
   "source": [
    "customer_2500 = customers_df[customers_df['customer_id'] == 2500]\n",
    "print(customer_2500)"
   ]
  }
 ],
 "metadata": {
  "kernelspec": {
   "display_name": "base",
   "language": "python",
   "name": "python3"
  },
  "language_info": {
   "codemirror_mode": {
    "name": "ipython",
    "version": 3
   },
   "file_extension": ".py",
   "mimetype": "text/x-python",
   "name": "python",
   "nbconvert_exporter": "python",
   "pygments_lexer": "ipython3",
   "version": "3.9.13"
  }
 },
 "nbformat": 4,
 "nbformat_minor": 2
}
