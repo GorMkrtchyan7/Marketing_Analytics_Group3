import pandas as pd

customers = pd.read_csv("Data_Folder/customers.csv")